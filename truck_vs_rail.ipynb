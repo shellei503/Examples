{
 "cells": [
  {
   "cell_type": "markdown",
   "id": "a4123397976ae23c",
   "metadata": {},
   "source": [
    "\n",
    "## Simplified Problem\n",
    "\n",
    "Assume we have determined a list of customer orders that must be fullfilled by sending from the factory to the the service center. You can send customer orders from the factory to the service center using either (1) Rail or (2) Truck. \n",
    "\n",
    "1. All orders must be assigned to either a Rail or a Truck\n",
    "2. Assume there is a procesing LT at the service center before it is ready for customer delivery\n",
    "3. Assume there is different transit cost for the rail verus by truck\n",
    "34. Assume there is different transit time for the rail verus by truck\n",
    "\n",
    "Note this problem can be solved analytically and does not require a MIP model in its simplified state. However, if in the future there are additional competing constrains and objectives, this framework can be used and expaned upon to meet those requirements\n",
    " "
   ]
  },
  {
   "cell_type": "markdown",
   "id": "2688b7af487e0aeb",
   "metadata": {},
   "source": [
    "## Sets\n",
    "- $S$: set of all service centers $\\in$ {1,2,...20} <br>\n",
    "- $C$: set of all customer orders $\\in$ {1,2,...C} <br>\n",
    "- $W$: set of weeks that a customer order could be delayed $\\in$ {1,2,...W} <br>\n"
   ]
  },
  {
   "cell_type": "markdown",
   "id": "5e32921165583f10",
   "metadata": {},
   "source": [
    "## Decision Variables\n",
    "* $r_{c,s} \\in \\{0, 1\\}$: Binary variable, 1 if customer order is sent to service center $s$ and fulfilled by rail, 0 otherwise\n",
    "* $t_{c,s} \\in \\{0, 1\\}$: Binary variable, 1 if customer order is sent to service center $s$ and fulfilled by truck, 0 otherwise\n",
    "* $d_{c}$: Integer variable representing the number of weeks late a customer order is delayed\n"
   ]
  },
  {
   "cell_type": "markdown",
   "id": "2f7a6ad6742d46fe",
   "metadata": {},
   "source": [
    "## Parameters\n",
    "- $\\text{rail transport cost}_{s}$: cost of to send an order by rail from factory to service center $s$\n",
    "- $\\text{truck transport cost}_{s}$: cost of to send an order by truck from factory to service center $s$\n",
    "- $\\text{delay penalty}$: an artifical penalty cost that penalizes late deliveries\n"
   ]
  },
  {
   "cell_type": "markdown",
   "id": "30af7fc6",
   "metadata": {},
   "source": [
    "- $\\text{rail LT}_{s}$: transit time to send an order by rail from factory to service center $s$\n",
    "- $\\text{truck LT}_{s}$: transit time to send an order by rail from factory to service center $s$\n"
   ]
  },
  {
   "cell_type": "markdown",
   "id": "a6e9431e",
   "metadata": {},
   "source": [
    "- $\\text{CPP}_{c}$: customer promise date (CPP) for a given customer order $c$"
   ]
  },
  {
   "cell_type": "markdown",
   "id": "ebad57e5f2195401",
   "metadata": {},
   "source": [
    "## Objective\n",
    "1. **Rail Transportation Cost** is the sum of all customer orders, $c$ sent by rail times the cost of rail service from factory to node $s$\n",
    "$$\\text{Rail Transportation Cost} =  \\sum_{s \\in S}  \\sum_{c \\in C}  \\text{rail transport cost}_s \\cdot r_{c,s}$$\n",
    "\n"
   ]
  },
  {
   "cell_type": "markdown",
   "id": "4794c572",
   "metadata": {},
   "source": [
    "2. **Truck Transportation Cost** is the sum of all customer orders, $c$ sent by truck times the cost of a truck service from factory to node $s$\n",
    "$$\\text{Truck Transportation Cost} =  \\sum_{s \\in S}  \\sum_{c \\in C}  \\text{truck transport cost}_s \\cdot t_{c,s} $$\n"
   ]
  },
  {
   "cell_type": "markdown",
   "id": "a39d39d9",
   "metadata": {},
   "source": [
    "3. **Penalty Cost** is calculated by taking the number of weeks ($w$) delayed a given customer order ($c$) (represented as $d_{c}$) times a delayed peanlty cost. Note, if this value is negative, it means the order arrived early and would then act as an incentive rather than a penalty\n",
    "$$\\text{Penalty Cost} = \\sum_{c \\in C} \\text{delay penalty cost} \\cdot d_{c}  $$\n",
    "\n"
   ]
  },
  {
   "cell_type": "markdown",
   "id": "bed07e2b",
   "metadata": {},
   "source": [
    "$$\\text{Minimize Z =  Rail Transportation Cost - Truck Transportation Cost - Penalty Cost}$$\n"
   ]
  },
  {
   "cell_type": "markdown",
   "id": "d7044205cd310c2c",
   "metadata": {},
   "source": [
    "## Constraints\n",
    "\n",
    "1. All orders  must be assigned to either a rail or a truck\n",
    "$$r_{c,s} + t_{c,s} = 1\n",
    "\\quad \\forall s \\in S\n",
    "\\quad \\forall c \\in C$$\n"
   ]
  },
  {
   "cell_type": "markdown",
   "id": "9590a454",
   "metadata": {},
   "source": [
    "2. Relational constraint to determine the number of weeks an order is late. \n",
    "$$\\text{current date}+ \\text{rail LT}_s \\cdot r_{c,s} + \\text{truck LT}_s \\cdot t_{c,s} - CPP_{c} = \n",
    "\\quad \\forall s \\in S\n",
    "\\quad \\forall c \\in C$$\n",
    "\n"
   ]
  },
  {
   "cell_type": "code",
   "execution_count": null,
   "id": "ceb683712ce8cd42",
   "metadata": {},
   "outputs": [],
   "source": []
  }
 ],
 "metadata": {
  "kernelspec": {
   "display_name": "Python 3",
   "language": "python",
   "name": "python3"
  },
  "language_info": {
   "codemirror_mode": {
    "name": "ipython",
    "version": 2
   },
   "file_extension": ".py",
   "mimetype": "text/x-python",
   "name": "python",
   "nbconvert_exporter": "python",
   "pygments_lexer": "ipython2",
   "version": "2.7.6"
  }
 },
 "nbformat": 4,
 "nbformat_minor": 5
}
